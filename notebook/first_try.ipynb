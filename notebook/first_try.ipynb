{
 "cells": [
  {
   "cell_type": "code",
   "execution_count": 34,
   "id": "blessed-kitty",
   "metadata": {},
   "outputs": [],
   "source": [
    "import numpy as np\n",
    "from scipy.optimize import differential_evolution\n",
    "\n",
    "constraints = []\n",
    "\n",
    "min_vac = {'type': 'ineq', 'fun': lambda x: x - 30}\n",
    "mod = {'type': 'eq', 'fun': lambda x: x.mod(1)}\n",
    "\n",
    "constraints.append(min_vac)\n",
    "constraints.append(mod)\n",
    "\n",
    "req_work = np.array([100])\n",
    "init_vacs = np.array([40, 30, 50])\n",
    "all_time = np.array([50, 50, 50])\n",
    "\n",
    "\n",
    "bounds = [(0, 50)] * 3\n",
    "\n",
    "def error(vacs):\n",
    "    return req_work - get_work_time(vacs).sum()\n",
    "\n",
    "def get_work_time(vacs):\n",
    "    return all_time - vacs\n",
    "    \n",
    "def fun(vacs):\n",
    "    return error(vacs)\n",
    "\n",
    "\n",
    "output = differential_evolution(\n",
    "    fun,\n",
    "#     x0=init_vacs,\n",
    "#     method='COBYLA',\n",
    "#     constraints=constraints,\n",
    "    bounds=bounds\n",
    ")\n"
   ]
  },
  {
   "cell_type": "code",
   "execution_count": 35,
   "id": "rotary-speed",
   "metadata": {},
   "outputs": [
    {
     "data": {
      "text/plain": [
       "     fun: array([-50.])\n",
       "     jac: array([1.00000079, 1.00000079, 1.00000079])\n",
       " message: 'Optimization terminated successfully.'\n",
       "    nfev: 1358\n",
       "     nit: 29\n",
       " success: True\n",
       "       x: array([0., 0., 0.])"
      ]
     },
     "execution_count": 35,
     "metadata": {},
     "output_type": "execute_result"
    }
   ],
   "source": [
    "output"
   ]
  },
  {
   "cell_type": "code",
   "execution_count": null,
   "id": "nominated-pleasure",
   "metadata": {},
   "outputs": [],
   "source": []
  }
 ],
 "metadata": {
  "kernelspec": {
   "display_name": "Python 3",
   "language": "python",
   "name": "python3"
  },
  "language_info": {
   "codemirror_mode": {
    "name": "ipython",
    "version": 3
   },
   "file_extension": ".py",
   "mimetype": "text/x-python",
   "name": "python",
   "nbconvert_exporter": "python",
   "pygments_lexer": "ipython3",
   "version": "3.7.7"
  }
 },
 "nbformat": 4,
 "nbformat_minor": 5
}
